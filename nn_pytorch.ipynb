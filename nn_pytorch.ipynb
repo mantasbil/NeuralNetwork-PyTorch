{
  "nbformat": 4,
  "nbformat_minor": 0,
  "metadata": {
    "colab": {
      "provenance": [],
      "gpuType": "T4"
    },
    "kernelspec": {
      "name": "python3",
      "display_name": "Python 3"
    },
    "language_info": {
      "name": "python"
    },
    "accelerator": "GPU"
  },
  "cells": [
    {
      "cell_type": "markdown",
      "source": [
        "# Neural Networks using PyTorch\n",
        "\n",
        "This notebook implements a simple nural network model for classification of Fashion MNIST dataset.\n",
        "\n",
        "This dataset contains grayscale images of 28x28 size of clothing items. There are 10 classes in total.\n",
        "\n",
        "This notebook is more technical, focusing on how to read the data, instantiate a neural network model using PyTorch and train it as opposed to analyzing the results of classification and trying to build a very accurate model."
      ],
      "metadata": {
        "id": "9Pjmo2_0FrZD"
      }
    },
    {
      "cell_type": "markdown",
      "source": [
        "## Data Importing and Preprocessing\n",
        "\n",
        "First of all we import clone the github directory containing relevant data. Training and testing datasets are already separated. Training dataset contains 60 000 images, while the test sample contains 10 000 entries of data."
      ],
      "metadata": {
        "id": "IXgFSMAIHZxr"
      }
    },
    {
      "cell_type": "code",
      "source": [
        "import torch as pt\n",
        "import numpy as np\n",
        "import os"
      ],
      "metadata": {
        "id": "tuNsTKeCF2Jk"
      },
      "execution_count": 1,
      "outputs": []
    },
    {
      "cell_type": "code",
      "source": [
        "!git clone https://github.com/zalandoresearch/fashion-mnist data\n",
        "os.listdir('data/data/fashion')"
      ],
      "metadata": {
        "colab": {
          "base_uri": "https://localhost:8080/"
        },
        "id": "WZ0n0cOtGSuM",
        "outputId": "a821af30-eaa2-4838-9ae4-2197bc2904d9"
      },
      "execution_count": 2,
      "outputs": [
        {
          "output_type": "stream",
          "name": "stdout",
          "text": [
            "fatal: destination path 'data' already exists and is not an empty directory.\n"
          ]
        },
        {
          "output_type": "execute_result",
          "data": {
            "text/plain": [
              "['train-images-idx3-ubyte.gz',\n",
              " 't10k-labels-idx1-ubyte.gz',\n",
              " 'unzipped',\n",
              " 'train-labels-idx1-ubyte.gz',\n",
              " 't10k-images-idx3-ubyte.gz']"
            ]
          },
          "metadata": {},
          "execution_count": 2
        }
      ]
    },
    {
      "cell_type": "code",
      "source": [
        "# import mnist_reader:\n",
        "import data.utils.mnist_reader as mnist_reader\n",
        "\n",
        "# load data:\n",
        "X_train_full, y_train_full = mnist_reader.load_mnist('data/data/fashion', kind='train')\n",
        "X_test, y_test = mnist_reader.load_mnist('data/data/fashion', kind='t10k')"
      ],
      "metadata": {
        "id": "XCJAX3wFGjfg"
      },
      "execution_count": 3,
      "outputs": []
    },
    {
      "cell_type": "code",
      "source": [
        "X_train_full.shape, X_test.shape"
      ],
      "metadata": {
        "colab": {
          "base_uri": "https://localhost:8080/"
        },
        "id": "RDBEEy52GugV",
        "outputId": "96ea66a8-f8f0-4581-d9ec-194447d84776"
      },
      "execution_count": 4,
      "outputs": [
        {
          "output_type": "execute_result",
          "data": {
            "text/plain": [
              "((60000, 784), (10000, 784))"
            ]
          },
          "metadata": {},
          "execution_count": 4
        }
      ]
    },
    {
      "cell_type": "code",
      "source": [
        "np.unique(y_train_full)"
      ],
      "metadata": {
        "colab": {
          "base_uri": "https://localhost:8080/"
        },
        "id": "SqgDJghaGyR2",
        "outputId": "e31d02c3-0307-4e19-aa4e-591475663258"
      },
      "execution_count": 5,
      "outputs": [
        {
          "output_type": "execute_result",
          "data": {
            "text/plain": [
              "array([0, 1, 2, 3, 4, 5, 6, 7, 8, 9], dtype=uint8)"
            ]
          },
          "metadata": {},
          "execution_count": 5
        }
      ]
    },
    {
      "cell_type": "markdown",
      "source": [
        "We want to further split the training dataset into training and validation splits. For that reason we perform a stratified split which ensures that the proportion of images in each class remains the same in both datasets. We take 50 % of the initial train sample as our actual train sample and the remaining 50 % as the validation sample.\n",
        "\n",
        "We also need to normalize the data. As the grayscale has values in the range [0, 256] we can simply divide our initial data by 255."
      ],
      "metadata": {
        "id": "lHaL__ffH-sS"
      }
    },
    {
      "cell_type": "code",
      "source": [
        "from sklearn.model_selection import train_test_split\n",
        "\n",
        "# normalize:\n",
        "X_train_full = X_train_full / 255.\n",
        "\n",
        "# split data:\n",
        "X_train, X_valid, y_train, y_valid = train_test_split(X_train_full, y_train_full,\n",
        "                                                      test_size=0.5, shuffle=True,\n",
        "                                                      stratify=y_train_full)"
      ],
      "metadata": {
        "id": "o05HTBa5IuuV"
      },
      "execution_count": 6,
      "outputs": []
    },
    {
      "cell_type": "markdown",
      "source": [
        "Let's give our classes names of actual items instead of numerical indices."
      ],
      "metadata": {
        "id": "_4Tu5HYqIzYg"
      }
    },
    {
      "cell_type": "code",
      "source": [
        "class_names = [\"T-shirt/top\", \"Trouser\", \"Pullover\", \"Dress\", \"Coat\", \"Sandal\", \"Shirt\", \"Sneaker\", \"Bag\", \"Ankle boot\"]"
      ],
      "metadata": {
        "id": "VB18csW6JE6q"
      },
      "execution_count": 7,
      "outputs": []
    },
    {
      "cell_type": "markdown",
      "source": [
        "We can also print out an example of how our data looks as images."
      ],
      "metadata": {
        "id": "JOL-MsMSJMNc"
      }
    },
    {
      "cell_type": "code",
      "source": [
        "import matplotlib.pyplot as plt\n",
        "i = np.random.randint(0, X_train.shape[0])\n",
        "plt.imshow(X_train[i].reshape((28, 28)), cmap='gray') # cmap to make it recognize grayscale\n",
        "plt.xlabel(class_names[y_train[i]])\n",
        "plt.show()"
      ],
      "metadata": {
        "colab": {
          "base_uri": "https://localhost:8080/",
          "height": 449
        },
        "id": "Vc5vX_azJJ1P",
        "outputId": "155c182e-d333-48ae-8592-c7e190610c23"
      },
      "execution_count": 8,
      "outputs": [
        {
          "output_type": "display_data",
          "data": {
            "text/plain": [
              "<Figure size 640x480 with 1 Axes>"
            ],
            "image/png": "[encoded data removed]"
          },
          "metadata": {}
        }
      ]
    },
    {
      "cell_type": "markdown",
      "source": [
        "## Dataset Loading Optimization\n",
        "\n",
        "Loading all data at once at the time of instantiation is resources inefficient which can become very problematic with big datasets.\n",
        "\n",
        "First of all we transform our data into a format more appropiate for big datasets."
      ],
      "metadata": {
        "id": "LHZrz8-hJWta"
      }
    },
    {
      "cell_type": "code",
      "source": [
        "target_dir = 'data/data/fashion/unzipped'\n",
        "os.makedirs(target_dir, exist_ok=True)\n",
        "\n",
        "train = mnist_reader.load_mnist('data/data/fashion', kind='train')\n",
        "t10k  = mnist_reader.load_mnist('data/data/fashion', kind='t10k')\n",
        "\n",
        "data = np.concatenate((train[0], t10k[0]), axis=0)\n",
        "labels = np.concatenate((train[1], t10k[1]), axis=0)\n",
        "\n",
        "for i, x in enumerate(data):\n",
        "  file = os.path.join(target_dir, f'img_{i:d}.npy')\n",
        "  with open(file, 'wb') as f:\n",
        "    np.save(f, x.reshape((28, 28)))\n",
        "\n",
        "with open(os.path.join(target_dir, 'labels.npy'), 'wb') as f:\n",
        "  np.save(f, labels)"
      ],
      "metadata": {
        "id": "AVHuYewJLKNj"
      },
      "execution_count": 9,
      "outputs": []
    },
    {
      "cell_type": "markdown",
      "source": [
        "Thus, we implement a class that loads a single sample dynamically from disk at the time of requestion hence minimizing the memory consumption.\n",
        "\n",
        "This class also performs stratified splitting of the data into train, validation and test sets."
      ],
      "metadata": {
        "id": "_XC7ivbTMSdz"
      }
    },
    {
      "cell_type": "code",
      "source": [
        "from numpy.typing import NDArray\n",
        "from typing import Tuple\n",
        "from torch.utils.data import Dataset\n",
        "\n",
        "class FashionMNIST(Dataset):\n",
        "  def __init__(self, indices:NDArray[np.int32], labels:NDArray[np.int8]) -> None:\n",
        "    self.indices = indices\n",
        "    self.labels = labels\n",
        "\n",
        "  def __len__(self) -> int:\n",
        "    return len(self.indices)\n",
        "\n",
        "  def __getitem__(self, idx:int) -> Tuple[np.typing.NDArray, int]:\n",
        "    dataset_index = self.indices[idx]\n",
        "    # load image\n",
        "    image_path = os.path.join(target_dir, f'img_{dataset_index:d}.npy')\n",
        "    with open(image_path, 'rb') as f:\n",
        "      img = np.load(f)\n",
        "\n",
        "    # normalize\n",
        "    img = img.astype(np.float32) / 255.\n",
        "    img = img.flatten() # Flatten the image tensor\n",
        "    img = pt.from_numpy(img) # Convert to PyTorch tensor\n",
        "\n",
        "    # load label\n",
        "    label = int(self.labels[idx])\n",
        "\n",
        "    return img, label\n",
        "\n",
        "  @staticmethod\n",
        "  def create_split(fraction_train:float, fraction_validation:float, fraction_test:float, stratify:bool=True, shuffle:bool=True) -> Tuple[Dataset, Dataset, Dataset]:\n",
        "    assert fraction_train + fraction_validation + fraction_test == 1.0\n",
        "\n",
        "    with open(os.path.join(target_dir, 'labels.npy'), 'rb') as f:\n",
        "      labels = np.load(f)\n",
        "\n",
        "    indices = np.arange(len(labels), dtype=np.int32)\n",
        "\n",
        "    stratify_param = labels if stratify else None\n",
        "\n",
        "    # making test dataset\n",
        "    idx_train_full, idx_test, y_train_full, y_test = train_test_split(indices, labels, test_size=fraction_test, shuffle=shuffle, stratify=stratify_param)\n",
        "\n",
        "    # update fractions for train and validations\n",
        "    new_val_frac = fraction_validation / (fraction_train + fraction_validation)\n",
        "    stratify_param = y_train_full if stratify else None\n",
        "\n",
        "    # split to train and validation\n",
        "    idx_train, idx_val, y_train, y_val = train_test_split(idx_train_full, y_train_full, test_size=new_val_frac, shuffle=shuffle, stratify=stratify_param)\n",
        "\n",
        "    data_train = FashionMNIST(\n",
        "        idx_train,\n",
        "        y_train\n",
        "    )\n",
        "\n",
        "    data_valid = FashionMNIST(\n",
        "        idx_val,\n",
        "        y_val\n",
        "    )\n",
        "\n",
        "    data_test = FashionMNIST(\n",
        "        idx_test,\n",
        "        y_test\n",
        "    )\n",
        "\n",
        "    return data_train, data_valid, data_test"
      ],
      "metadata": {
        "id": "NVqsipZzKO74"
      },
      "execution_count": 10,
      "outputs": []
    },
    {
      "cell_type": "markdown",
      "source": [
        "Let's instantiate DataLoader objects for each of the datsets with shuffling and batching."
      ],
      "metadata": {
        "id": "tYWbCHM3KlI3"
      }
    },
    {
      "cell_type": "code",
      "source": [
        "from torch.utils.data import DataLoader\n",
        "BATCH_SIZE = 32\n",
        "\n",
        "data_train, data_valid, data_test = FashionMNIST.create_split(.7, .1, .2)"
      ],
      "metadata": {
        "id": "W_bFR6zkKkg7"
      },
      "execution_count": 11,
      "outputs": []
    },
    {
      "cell_type": "code",
      "source": [
        "loader_train = DataLoader(data_train,\n",
        "                          batch_size=BATCH_SIZE,\n",
        "                          shuffle=True,\n",
        "                          sampler=None,\n",
        "\n",
        "                          batch_sampler=None,\n",
        "                          drop_last=False)"
      ],
      "metadata": {
        "id": "qPWSzv6KLwSl"
      },
      "execution_count": 12,
      "outputs": []
    },
    {
      "cell_type": "markdown",
      "source": [
        "Validation and test sets do not need to be shuffled since they all will be used at once."
      ],
      "metadata": {
        "id": "NZV39wZ2MAuz"
      }
    },
    {
      "cell_type": "code",
      "source": [
        "loader_valid = DataLoader(data_valid,\n",
        "                          batch_size=BATCH_SIZE,\n",
        "                          shuffle=False,\n",
        "                          sampler=None,\n",
        "                          batch_sampler=None,\n",
        "                          drop_last=False)"
      ],
      "metadata": {
        "id": "1UxJs2lpL7Ap"
      },
      "execution_count": 13,
      "outputs": []
    },
    {
      "cell_type": "code",
      "source": [
        "loader_test  = DataLoader(data_test,\n",
        "                          batch_size=BATCH_SIZE,\n",
        "                          shuffle=False,\n",
        "                          sampler=None,\n",
        "                          batch_sampler=None,\n",
        "                          drop_last=False)"
      ],
      "metadata": {
        "id": "kHKChxijL9Gj"
      },
      "execution_count": 14,
      "outputs": []
    },
    {
      "cell_type": "markdown",
      "source": [
        "## Sequential Neural Network Model\n",
        "\n",
        "In this part we implement a simple neural network architecture with given structure:\n",
        "\n",
        "- One linear input layer of 300 perceptrons and *ReLu* activation function, followed by a dropout layer.\n",
        "\n",
        "- One linear hidden layer of size 200, with a *ReLu* activation function, followed by a dropout layer.\n",
        "\n",
        "- One linear output layer with *softmax* activation function."
      ],
      "metadata": {
        "id": "O9xTIHE0MePV"
      }
    },
    {
      "cell_type": "code",
      "source": [
        "import torch.nn as nn\n",
        "import torch.nn.functional as F\n",
        "from torchsummary import summary\n",
        "\n",
        "class CustomNetwork(nn.Module):\n",
        "  def __init__(self, dropout:float=.2) -> None:\n",
        "    super().__init__()\n",
        "    self.layer1 = nn.Linear(in_features=784, out_features=300, bias=True)\n",
        "    self.dropout_layer1 = nn.Dropout(p=dropout)\n",
        "    self.layer2 = nn.Linear(in_features=300, out_features=200, bias=True)\n",
        "    self.dropout_layer2 = nn.Dropout(p=dropout)\n",
        "    self.layer3 = nn.Linear(in_features=200, out_features=10, bias=True)\n",
        "\n",
        "  def forward(self, x:pt.Tensor) -> pt.Tensor:\n",
        "    x = F.relu(self.layer1(x))\n",
        "    x = self.dropout_layer1(x)\n",
        "    x = F.relu(self.layer2(x))\n",
        "    x = self.dropout_layer2(x)\n",
        "    return F.softmax(self.layer3(x), dim=-1)"
      ],
      "metadata": {
        "id": "Dh5emUYLL-xG"
      },
      "execution_count": 15,
      "outputs": []
    },
    {
      "cell_type": "markdown",
      "source": [
        "## Neural Network Training\n",
        "\n",
        "In this section model training loop is implemented. It uses:\n",
        "\n",
        "- Momentum-based Adam optimizer\n",
        "- Linear scheduler\n",
        "\n",
        "The procedure also has early stopping functionality that stops the training when the validation loss has not improved for specified number of epochs (patience) and restores the model parameters to the ones where lowest loss was achieved"
      ],
      "metadata": {
        "id": "ptBR9-XWNYi8"
      }
    },
    {
      "cell_type": "code",
      "source": [
        "device = pt.device(\"cuda\" if pt.cuda.is_available() else \"cpu\")\n",
        "model = CustomNetwork()\n",
        "model = model.to(device)"
      ],
      "metadata": {
        "id": "Ug2KsBdgOlkI"
      },
      "execution_count": 16,
      "outputs": []
    },
    {
      "cell_type": "code",
      "source": [
        "import pandas as pd\n",
        "from sklearn.metrics import f1_score\n",
        "from typing import Optional, Callable\n",
        "\n",
        "def epoch(model:CustomNetwork, loader_train:DataLoader, optimizer:pt.optim.Optimizer, loss_fn:Callable[[pt.Tensor, pt.Tensor], pt.Tensor]):\n",
        "  model.train()\n",
        "\n",
        "  losses = None if loss_fn is None else []\n",
        "  with pt.enable_grad():\n",
        "    for X_batch, y_batch in loader_train:\n",
        "      # move tensors to correct device:\n",
        "      X_batch = X_batch.to(device)\n",
        "      y_batch = y_batch.to(device)\n",
        "\n",
        "      # reset all gradients to zero:\n",
        "      optimizer.zero_grad()\n",
        "\n",
        "      # create predictions:\n",
        "      y_pred = model(X_batch)\n",
        "\n",
        "      # calculate loss:\n",
        "      loss = loss_fn(y_pred, y_batch)\n",
        "      losses.append(loss_fn(y_pred, y_batch).detach().cpu().numpy())\n",
        "\n",
        "      # backpropagate loss:\n",
        "      loss.backward()\n",
        "\n",
        "      # update weights:\n",
        "      optimizer.step()\n",
        "\n",
        "  return np.mean(losses)\n",
        "\n",
        "def evaluate(model:CustomNetwork, loader_valid:DataLoader, loss_fn:Optional[Callable[[pt.Tensor, pt.Tensor], pt.Tensor]]=None):\n",
        "  # 1. set model to eval:\n",
        "  model.eval()\n",
        "\n",
        "  labels = []\n",
        "  predictions = []\n",
        "  losses = None if loss_fn is None else []\n",
        "  for X_batch, y_batch in loader_valid:\n",
        "    # move tensors to correct device:\n",
        "    X_batch = X_batch.to(device)\n",
        "    y_batch = y_batch.to(device)\n",
        "    labels.extend(y_batch.cpu().detach().numpy())\n",
        "\n",
        "    # create predictions:\n",
        "    y_pred = model(X_batch)\n",
        "    predictions.extend(y_pred.cpu().detach().numpy())\n",
        "\n",
        "    # calculate loss:\n",
        "    if loss_fn is not None:\n",
        "      losses.append(loss_fn(y_pred, y_batch).detach().cpu().numpy())\n",
        "\n",
        "  # calculate f1 score:\n",
        "  f1 = f1_score(\n",
        "    y_batch.cpu().detach().numpy(),\n",
        "    y_pred.argmax(dim=1).cpu().detach().numpy(),\n",
        "    average='macro'\n",
        "  )\n",
        "\n",
        "  if loss_fn is None: return {'f1':f1}\n",
        "  else: return {'loss':np.mean(losses), 'f1':f1}\n",
        "\n",
        "def fit(model:CustomNetwork, loader_train:DataLoader, loader_valid:DataLoader, epochs:int, lr:float, patience:int):\n",
        "  # instantiate optimizer:\n",
        "  optimizer = pt.optim.Adam(model.parameters(), lr=lr)\n",
        "\n",
        "  # add scheduler\n",
        "  scheduler = pt.optim.lr_scheduler.LinearLR(optimizer, start_factor=1.0, end_factor=0.33, total_iters=10)\n",
        "\n",
        "  # instantiate loss function:\n",
        "  loss_fn = pt.nn.CrossEntropyLoss()\n",
        "\n",
        "  history = []\n",
        "  best_loss = float('inf')\n",
        "  best_state = None\n",
        "  epochs_no_improvement = 0\n",
        "\n",
        "  for i in range(epochs):\n",
        "    # train for one epoch:\n",
        "    loss_train = epoch(model, loader_train, optimizer, loss_fn)\n",
        "\n",
        "    # evaluate on validation:\n",
        "    metrics = evaluate(model, loader_valid, loss_fn)\n",
        "\n",
        "    # save metrics:\n",
        "    history.append({\n",
        "      'loss_train':loss_train,\n",
        "      'loss_valid': metrics['loss'],\n",
        "      'f1_valid': metrics['f1']\n",
        "    })\n",
        "\n",
        "    # print message:\n",
        "    print(f'Epoch {i+1:d}/{epochs:d}:', *[f'{metric} = {history[-1][metric]:.2f};' for metric in history[-1]], sep='\\t')\n",
        "\n",
        "    # early stopping:\n",
        "    current_loss = metrics['loss']\n",
        "    if current_loss < best_loss:\n",
        "      best_loss = current_loss\n",
        "      best_state = model.state_dict()\n",
        "      epochs_no_improvement = 0\n",
        "    else:\n",
        "      epochs_no_improvement +=1\n",
        "      if epochs_no_improvement >= patience:\n",
        "        print(f'Early stopping triggered after {i+1} epochs.')\n",
        "        break\n",
        "    scheduler.step()\n",
        "  model.load_state_dict(best_state)\n",
        "  # return history:\n",
        "  return pd.DataFrame(history)"
      ],
      "metadata": {
        "id": "hV9tytSROfwQ"
      },
      "execution_count": 17,
      "outputs": []
    },
    {
      "cell_type": "markdown",
      "source": [
        "Let's performing model training for 30 epochs with a learning rate of 0.001 and a patience of 5.\n",
        "\n",
        "We also plot loss curves for train and validation samples."
      ],
      "metadata": {
        "id": "qm0-LybTPNo0"
      }
    },
    {
      "cell_type": "code",
      "source": [
        "# train model:\n",
        "history = fit(model, loader_train, loader_valid, epochs=30, lr=.001, patience=5)\n",
        "\n",
        "# plot history:\n",
        "history[['loss_train', 'loss_valid']].plot(xlabel='epoch', ylabel='loss')"
      ],
      "metadata": {
        "colab": {
          "base_uri": "https://localhost:8080/",
          "height": 987
        },
        "id": "_LGulpoJPjrK",
        "outputId": "8ee66b6c-7717-4c80-a175-959fab830276"
      },
      "execution_count": 18,
      "outputs": [
        {
          "output_type": "stream",
          "name": "stdout",
          "text": [
            "Epoch 1/30:\tloss_train = 1.80;\tloss_valid = 1.71;\tf1_valid = 0.78;\n",
            "Epoch 2/30:\tloss_train = 1.69;\tloss_valid = 1.68;\tf1_valid = 0.79;\n",
            "Epoch 3/30:\tloss_train = 1.69;\tloss_valid = 1.70;\tf1_valid = 0.79;\n",
            "Epoch 4/30:\tloss_train = 1.68;\tloss_valid = 1.67;\tf1_valid = 0.83;\n",
            "Epoch 5/30:\tloss_train = 1.68;\tloss_valid = 1.68;\tf1_valid = 0.83;\n",
            "Epoch 6/30:\tloss_train = 1.67;\tloss_valid = 1.67;\tf1_valid = 0.77;\n",
            "Epoch 7/30:\tloss_train = 1.67;\tloss_valid = 1.68;\tf1_valid = 0.79;\n",
            "Epoch 8/30:\tloss_train = 1.66;\tloss_valid = 1.67;\tf1_valid = 0.77;\n",
            "Epoch 9/30:\tloss_train = 1.66;\tloss_valid = 1.67;\tf1_valid = 0.81;\n",
            "Epoch 10/30:\tloss_train = 1.65;\tloss_valid = 1.66;\tf1_valid = 0.83;\n",
            "Epoch 11/30:\tloss_train = 1.65;\tloss_valid = 1.66;\tf1_valid = 0.83;\n",
            "Epoch 12/30:\tloss_train = 1.65;\tloss_valid = 1.66;\tf1_valid = 0.83;\n",
            "Epoch 13/30:\tloss_train = 1.65;\tloss_valid = 1.66;\tf1_valid = 0.80;\n",
            "Epoch 14/30:\tloss_train = 1.65;\tloss_valid = 1.66;\tf1_valid = 0.83;\n",
            "Epoch 15/30:\tloss_train = 1.65;\tloss_valid = 1.65;\tf1_valid = 0.83;\n",
            "Epoch 16/30:\tloss_train = 1.64;\tloss_valid = 1.65;\tf1_valid = 0.83;\n",
            "Epoch 17/30:\tloss_train = 1.64;\tloss_valid = 1.65;\tf1_valid = 0.83;\n",
            "Epoch 18/30:\tloss_train = 1.64;\tloss_valid = 1.66;\tf1_valid = 0.83;\n",
            "Epoch 19/30:\tloss_train = 1.64;\tloss_valid = 1.65;\tf1_valid = 0.83;\n",
            "Epoch 20/30:\tloss_train = 1.64;\tloss_valid = 1.65;\tf1_valid = 0.83;\n",
            "Epoch 21/30:\tloss_train = 1.64;\tloss_valid = 1.65;\tf1_valid = 0.81;\n",
            "Epoch 22/30:\tloss_train = 1.64;\tloss_valid = 1.65;\tf1_valid = 0.83;\n",
            "Epoch 23/30:\tloss_train = 1.64;\tloss_valid = 1.65;\tf1_valid = 0.83;\n",
            "Epoch 24/30:\tloss_train = 1.64;\tloss_valid = 1.65;\tf1_valid = 0.81;\n",
            "Epoch 25/30:\tloss_train = 1.64;\tloss_valid = 1.66;\tf1_valid = 0.83;\n",
            "Epoch 26/30:\tloss_train = 1.64;\tloss_valid = 1.66;\tf1_valid = 0.83;\n",
            "Epoch 27/30:\tloss_train = 1.64;\tloss_valid = 1.65;\tf1_valid = 0.83;\n",
            "Epoch 28/30:\tloss_train = 1.64;\tloss_valid = 1.65;\tf1_valid = 0.83;\n",
            "Epoch 29/30:\tloss_train = 1.63;\tloss_valid = 1.65;\tf1_valid = 0.83;\n",
            "Epoch 30/30:\tloss_train = 1.63;\tloss_valid = 1.65;\tf1_valid = 0.83;\n"
          ]
        },
        {
          "output_type": "execute_result",
          "data": {
            "text/plain": [
              "<Axes: xlabel='epoch', ylabel='loss'>"
            ]
          },
          "metadata": {},
          "execution_count": 18
        },
        {
          "output_type": "display_data",
          "data": {
            "text/plain": [
              "<Figure size 640x480 with 1 Axes>"
            ],
            "image/png": "[encoded data removed]"
          },
          "metadata": {}
        }
      ]
    },
    {
      "cell_type": "markdown",
      "source": [
        "Let's save the state dictionary of the resulting model"
      ],
      "metadata": {
        "id": "kPoJgk_ZRszq"
      }
    },
    {
      "cell_type": "code",
      "source": [
        "import pickle\n",
        "\n",
        "with open('model_state_dict.pkl', 'wb') as f:\n",
        "  pickle.dump(model.state_dict(), f)\n",
        "\n",
        "with open('model_state_dict.pkl', 'rb') as f:\n",
        "  state_dict = pickle.load(f)\n",
        "model.load_state_dict(state_dict)\n",
        "summary(model, input_size=(784,))"
      ],
      "metadata": {
        "colab": {
          "base_uri": "https://localhost:8080/"
        },
        "id": "fbCOv8zPR5Wj",
        "outputId": "27f06202-90d8-4375-feaa-38cf27d58e79"
      },
      "execution_count": 20,
      "outputs": [
        {
          "output_type": "stream",
          "name": "stdout",
          "text": [
            "----------------------------------------------------------------\n",
            "        Layer (type)               Output Shape         Param #\n",
            "================================================================\n",
            "            Linear-1                  [-1, 300]         235,500\n",
            "           Dropout-2                  [-1, 300]               0\n",
            "            Linear-3                  [-1, 200]          60,200\n",
            "           Dropout-4                  [-1, 200]               0\n",
            "            Linear-5                   [-1, 10]           2,010\n",
            "================================================================\n",
            "Total params: 297,710\n",
            "Trainable params: 297,710\n",
            "Non-trainable params: 0\n",
            "----------------------------------------------------------------\n",
            "Input size (MB): 0.00\n",
            "Forward/backward pass size (MB): 0.01\n",
            "Params size (MB): 1.14\n",
            "Estimated Total Size (MB): 1.15\n",
            "----------------------------------------------------------------\n"
          ]
        }
      ]
    },
    {
      "cell_type": "markdown",
      "source": [
        "##"
      ],
      "metadata": {
        "id": "4sMOBpctGI0A"
      }
    }
  ]
}